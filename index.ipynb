{
 "cells": [
  {
   "cell_type": "code",
   "execution_count": 180,
   "metadata": {},
   "outputs": [],
   "source": [
    " # Import the python file containing the ML model\n",
    "from flask import Flask, request, render_template # Import flask libraries\n",
    "import pickle\n",
    "from python_version import get_all_data\n",
    "model = pickle.load(open('binary_model.sav', 'rb'))\n",
    "threshold = 0.36448651000920534 \n",
    "import warnings\n",
    "warnings.filterwarnings('ignore')"
   ]
  },
  {
   "cell_type": "code",
   "execution_count": 181,
   "metadata": {},
   "outputs": [],
   "source": [
    "# Initialize the flask class and specify the templates directory\n",
    "app = Flask(__name__,template_folder = \"templates\")"
   ]
  },
  {
   "cell_type": "code",
   "execution_count": 182,
   "metadata": {},
   "outputs": [],
   "source": [
    "# Default route set as 'home'\n",
    "@app.route('/')\n",
    "def home():\n",
    "    return render_template('home.html')"
   ]
  },
  {
   "cell_type": "code",
   "execution_count": 183,
   "metadata": {},
   "outputs": [],
   "source": [
    "@app.route('/predict',methods=['GET'])\n",
    "def predict_type():\n",
    "    try:\n",
    "        ticker = request.args.get('ticker') # Get parameters for sepal ticker\n",
    "        company_name = request.args.get('company_name') # Get parameters for name\n",
    "        data = get_all_data(ticker, company_name)\n",
    "        res = model.predict_proba(data)[::, 1] > threshold\n",
    "        if res[0] == False:\n",
    "            binary_prediction = '\"Fall\"'\n",
    "            proba = model.predict_proba(data)[::, 0][0].round(2)\n",
    "        else: \n",
    "            binary_prediction = '\"Rise\"'\n",
    "            proba = model.predict_proba(data)[::, 1][0].round(2)\n",
    "        return render_template('home.html', prediction = binary_prediction, proba = proba)\n",
    "\n",
    "    except:\n",
    "         return render_template('home.html', prediction = 'Oops, check the spelling of the ticker and try again!')"
   ]
  },
  {
   "cell_type": "code",
   "execution_count": 184,
   "metadata": {},
   "outputs": [
    {
     "name": "stdout",
     "output_type": "stream",
     "text": [
      " * Serving Flask app \"__main__\" (lazy loading)\n",
      " * Environment: production\n",
      "\u001b[31m   WARNING: This is a development server. Do not use it in a production deployment.\u001b[0m\n",
      "\u001b[2m   Use a production WSGI server instead.\u001b[0m\n",
      " * Debug mode: off\n"
     ]
    },
    {
     "name": "stderr",
     "output_type": "stream",
     "text": [
      " * Running on http://127.0.0.1:7000/ (Press CTRL+C to quit)\n",
      "127.0.0.1 - - [31/Mar/2022 13:30:53] \"\u001b[37mGET /predict?ticker=as&company_name=eg HTTP/1.1\u001b[0m\" 200 -\n",
      "127.0.0.1 - - [31/Mar/2022 13:30:56] \"\u001b[37mGET / HTTP/1.1\u001b[0m\" 200 -\n"
     ]
    },
    {
     "name": "stdout",
     "output_type": "stream",
     "text": [
      "AAPL news is parsed!\n"
     ]
    },
    {
     "name": "stderr",
     "output_type": "stream",
     "text": [
      "127.0.0.1 - - [31/Mar/2022 13:31:02] \"\u001b[37mGET /predict?ticker=AAPL&company_name=Apple HTTP/1.1\u001b[0m\" 200 -\n",
      "127.0.0.1 - - [31/Mar/2022 13:31:06] \"\u001b[37mGET / HTTP/1.1\u001b[0m\" 200 -\n",
      "127.0.0.1 - - [31/Mar/2022 13:31:15] \"\u001b[37mGET /predict?ticker=as&company_name=eg HTTP/1.1\u001b[0m\" 200 -\n"
     ]
    },
    {
     "name": "stdout",
     "output_type": "stream",
     "text": [
      "as news is parsed!\n"
     ]
    },
    {
     "name": "stderr",
     "output_type": "stream",
     "text": [
      "127.0.0.1 - - [31/Mar/2022 13:31:18] \"\u001b[37mGET / HTTP/1.1\u001b[0m\" 200 -\n"
     ]
    }
   ],
   "source": [
    "if(__name__=='__main__'):\n",
    "    app.run(port=7000)"
   ]
  }
 ],
 "metadata": {
  "interpreter": {
   "hash": "7f360841077bedc85f6e1678552164e2bbcbbce06b33ab653ea86b15ff9f1e12"
  },
  "kernelspec": {
   "display_name": "Python 3.8.3 ('base')",
   "language": "python",
   "name": "python3"
  },
  "language_info": {
   "codemirror_mode": {
    "name": "ipython",
    "version": 3
   },
   "file_extension": ".py",
   "mimetype": "text/x-python",
   "name": "python",
   "nbconvert_exporter": "python",
   "pygments_lexer": "ipython3",
   "version": "3.8.3"
  },
  "orig_nbformat": 4
 },
 "nbformat": 4,
 "nbformat_minor": 2
}
