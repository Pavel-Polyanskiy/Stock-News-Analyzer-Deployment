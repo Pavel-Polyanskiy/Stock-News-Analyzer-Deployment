{
 "cells": [
  {
   "cell_type": "code",
   "execution_count": 4,
   "id": "warming-delaware",
   "metadata": {},
   "outputs": [],
   "source": [
    "import pandas as pd\n",
    "import numpy as np\n",
    "from sklearn.model_selection import StratifiedKFold, train_test_split, KFold, GroupKFold, cross_val_score\n",
    "from sklearn import metrics\n",
    "import matplotlib.pyplot as plt\n",
    "import tensorflow as tf\n",
    "from tensorflow import keras\n",
    "from tensorflow.keras import layers\n",
    "from keras.layers import Dense, LSTM, Dropout\n",
    "from keras.models import Sequential\n",
    "import keras.metrics\n",
    "import warnings\n",
    "from sklearn.preprocessing import MinMaxScaler, StandardScaler\n",
    "from sklearn import metrics\n",
    "warnings.filterwarnings('ignore')"
   ]
  },
  {
   "cell_type": "code",
   "execution_count": 5,
   "id": "miniature-faculty",
   "metadata": {},
   "outputs": [],
   "source": [
    "df = pd.read_csv('/Users/polyanaboss/Desktop/Term paper/Data/processed_data_v.1.0.csv', \n",
    "                 index_col = ['day', 'ticker'])"
   ]
  },
  {
   "cell_type": "code",
   "execution_count": 3,
   "id": "interested-animation",
   "metadata": {},
   "outputs": [],
   "source": [
    "df.dropna(axis = 0, how = 'any', inplace = True)"
   ]
  },
  {
   "cell_type": "code",
   "execution_count": 4,
   "id": "individual-rally",
   "metadata": {},
   "outputs": [],
   "source": [
    "#df.drop([col for col in df.columns if col.startswith('sentiment') or col.startswith('topic')], \n",
    " #       axis = 1, inplace = True)"
   ]
  },
  {
   "cell_type": "code",
   "execution_count": 5,
   "id": "quiet-carolina",
   "metadata": {},
   "outputs": [
    {
     "data": {
      "text/html": [
       "<div>\n",
       "<style scoped>\n",
       "    .dataframe tbody tr th:only-of-type {\n",
       "        vertical-align: middle;\n",
       "    }\n",
       "\n",
       "    .dataframe tbody tr th {\n",
       "        vertical-align: top;\n",
       "    }\n",
       "\n",
       "    .dataframe thead th {\n",
       "        text-align: right;\n",
       "    }\n",
       "</style>\n",
       "<table border=\"1\" class=\"dataframe\">\n",
       "  <thead>\n",
       "    <tr style=\"text-align: right;\">\n",
       "      <th></th>\n",
       "      <th></th>\n",
       "      <th>adjclose</th>\n",
       "      <th>ma_10</th>\n",
       "      <th>ma_20</th>\n",
       "      <th>ma_30</th>\n",
       "      <th>ema_12</th>\n",
       "      <th>ema_26</th>\n",
       "      <th>rsi_6_sma</th>\n",
       "      <th>rsi_6_ema</th>\n",
       "      <th>rsi_12_sma</th>\n",
       "      <th>rsi_24_sma</th>\n",
       "      <th>...</th>\n",
       "      <th>sentiment_35</th>\n",
       "      <th>sentiment_36</th>\n",
       "      <th>sentiment_37</th>\n",
       "      <th>sentiment_38</th>\n",
       "      <th>sentiment_39</th>\n",
       "      <th>topic_0</th>\n",
       "      <th>topic_1</th>\n",
       "      <th>topic_2</th>\n",
       "      <th>topic_3</th>\n",
       "      <th>topic_4</th>\n",
       "    </tr>\n",
       "    <tr>\n",
       "      <th>day</th>\n",
       "      <th>ticker</th>\n",
       "      <th></th>\n",
       "      <th></th>\n",
       "      <th></th>\n",
       "      <th></th>\n",
       "      <th></th>\n",
       "      <th></th>\n",
       "      <th></th>\n",
       "      <th></th>\n",
       "      <th></th>\n",
       "      <th></th>\n",
       "      <th></th>\n",
       "      <th></th>\n",
       "      <th></th>\n",
       "      <th></th>\n",
       "      <th></th>\n",
       "      <th></th>\n",
       "      <th></th>\n",
       "      <th></th>\n",
       "      <th></th>\n",
       "      <th></th>\n",
       "      <th></th>\n",
       "    </tr>\n",
       "  </thead>\n",
       "  <tbody>\n",
       "    <tr>\n",
       "      <th rowspan=\"3\" valign=\"top\">2021-03-04</th>\n",
       "      <th>AAPL</th>\n",
       "      <td>119.420219</td>\n",
       "      <td>124.660082</td>\n",
       "      <td>129.457326</td>\n",
       "      <td>131.775941</td>\n",
       "      <td>125.732602</td>\n",
       "      <td>128.423225</td>\n",
       "      <td>39.080453</td>\n",
       "      <td>33.325382</td>\n",
       "      <td>25.560048</td>\n",
       "      <td>29.139135</td>\n",
       "      <td>...</td>\n",
       "      <td>0.467013</td>\n",
       "      <td>0.433376</td>\n",
       "      <td>0.424253</td>\n",
       "      <td>0.410886</td>\n",
       "      <td>0.439668</td>\n",
       "      <td>2</td>\n",
       "      <td>2</td>\n",
       "      <td>2</td>\n",
       "      <td>2</td>\n",
       "      <td>2</td>\n",
       "    </tr>\n",
       "    <tr>\n",
       "      <th>AMZN</th>\n",
       "      <td>2977.570068</td>\n",
       "      <td>3150.865967</td>\n",
       "      <td>3226.814465</td>\n",
       "      <td>3247.276636</td>\n",
       "      <td>3148.529560</td>\n",
       "      <td>3196.767470</td>\n",
       "      <td>24.214878</td>\n",
       "      <td>26.776597</td>\n",
       "      <td>27.150401</td>\n",
       "      <td>38.840834</td>\n",
       "      <td>...</td>\n",
       "      <td>0.518054</td>\n",
       "      <td>0.489071</td>\n",
       "      <td>0.472463</td>\n",
       "      <td>0.461305</td>\n",
       "      <td>0.488746</td>\n",
       "      <td>2</td>\n",
       "      <td>2</td>\n",
       "      <td>2</td>\n",
       "      <td>2</td>\n",
       "      <td>2</td>\n",
       "    </tr>\n",
       "    <tr>\n",
       "      <th>NFLX</th>\n",
       "      <td>511.290009</td>\n",
       "      <td>542.648999</td>\n",
       "      <td>548.110004</td>\n",
       "      <td>549.791003</td>\n",
       "      <td>543.116656</td>\n",
       "      <td>543.017493</td>\n",
       "      <td>29.976383</td>\n",
       "      <td>44.271572</td>\n",
       "      <td>32.122175</td>\n",
       "      <td>49.305999</td>\n",
       "      <td>...</td>\n",
       "      <td>0.532548</td>\n",
       "      <td>0.510936</td>\n",
       "      <td>0.481093</td>\n",
       "      <td>0.474581</td>\n",
       "      <td>0.500493</td>\n",
       "      <td>2</td>\n",
       "      <td>7</td>\n",
       "      <td>6</td>\n",
       "      <td>2</td>\n",
       "      <td>2</td>\n",
       "    </tr>\n",
       "    <tr>\n",
       "      <th rowspan=\"2\" valign=\"top\">2021-03-05</th>\n",
       "      <th>AMGN</th>\n",
       "      <td>220.646820</td>\n",
       "      <td>220.581917</td>\n",
       "      <td>224.169980</td>\n",
       "      <td>228.933960</td>\n",
       "      <td>220.952093</td>\n",
       "      <td>224.423269</td>\n",
       "      <td>17.207729</td>\n",
       "      <td>21.321361</td>\n",
       "      <td>25.914517</td>\n",
       "      <td>24.227511</td>\n",
       "      <td>...</td>\n",
       "      <td>0.560588</td>\n",
       "      <td>0.511620</td>\n",
       "      <td>0.527688</td>\n",
       "      <td>0.506599</td>\n",
       "      <td>0.539568</td>\n",
       "      <td>2</td>\n",
       "      <td>2</td>\n",
       "      <td>8</td>\n",
       "      <td>3</td>\n",
       "      <td>8</td>\n",
       "    </tr>\n",
       "    <tr>\n",
       "      <th>AMZN</th>\n",
       "      <td>3000.459961</td>\n",
       "      <td>3115.799976</td>\n",
       "      <td>3210.066467</td>\n",
       "      <td>3237.749642</td>\n",
       "      <td>3122.227793</td>\n",
       "      <td>3180.443527</td>\n",
       "      <td>24.722160</td>\n",
       "      <td>26.121193</td>\n",
       "      <td>26.326743</td>\n",
       "      <td>37.522669</td>\n",
       "      <td>...</td>\n",
       "      <td>0.454547</td>\n",
       "      <td>0.393381</td>\n",
       "      <td>0.453038</td>\n",
       "      <td>0.444550</td>\n",
       "      <td>0.472122</td>\n",
       "      <td>2</td>\n",
       "      <td>2</td>\n",
       "      <td>2</td>\n",
       "      <td>2</td>\n",
       "      <td>2</td>\n",
       "    </tr>\n",
       "  </tbody>\n",
       "</table>\n",
       "<p>5 rows × 59 columns</p>\n",
       "</div>"
      ],
      "text/plain": [
       "                      adjclose        ma_10        ma_20        ma_30  \\\n",
       "day        ticker                                                       \n",
       "2021-03-04 AAPL     119.420219   124.660082   129.457326   131.775941   \n",
       "           AMZN    2977.570068  3150.865967  3226.814465  3247.276636   \n",
       "           NFLX     511.290009   542.648999   548.110004   549.791003   \n",
       "2021-03-05 AMGN     220.646820   220.581917   224.169980   228.933960   \n",
       "           AMZN    3000.459961  3115.799976  3210.066467  3237.749642   \n",
       "\n",
       "                        ema_12       ema_26  rsi_6_sma  rsi_6_ema  rsi_12_sma  \\\n",
       "day        ticker                                                               \n",
       "2021-03-04 AAPL     125.732602   128.423225  39.080453  33.325382   25.560048   \n",
       "           AMZN    3148.529560  3196.767470  24.214878  26.776597   27.150401   \n",
       "           NFLX     543.116656   543.017493  29.976383  44.271572   32.122175   \n",
       "2021-03-05 AMGN     220.952093   224.423269  17.207729  21.321361   25.914517   \n",
       "           AMZN    3122.227793  3180.443527  24.722160  26.121193   26.326743   \n",
       "\n",
       "                   rsi_24_sma  ...  sentiment_35  sentiment_36  sentiment_37  \\\n",
       "day        ticker              ...                                             \n",
       "2021-03-04 AAPL     29.139135  ...      0.467013      0.433376      0.424253   \n",
       "           AMZN     38.840834  ...      0.518054      0.489071      0.472463   \n",
       "           NFLX     49.305999  ...      0.532548      0.510936      0.481093   \n",
       "2021-03-05 AMGN     24.227511  ...      0.560588      0.511620      0.527688   \n",
       "           AMZN     37.522669  ...      0.454547      0.393381      0.453038   \n",
       "\n",
       "                   sentiment_38  sentiment_39  topic_0  topic_1  topic_2  \\\n",
       "day        ticker                                                          \n",
       "2021-03-04 AAPL        0.410886      0.439668        2        2        2   \n",
       "           AMZN        0.461305      0.488746        2        2        2   \n",
       "           NFLX        0.474581      0.500493        2        7        6   \n",
       "2021-03-05 AMGN        0.506599      0.539568        2        2        8   \n",
       "           AMZN        0.444550      0.472122        2        2        2   \n",
       "\n",
       "                   topic_3  topic_4  \n",
       "day        ticker                    \n",
       "2021-03-04 AAPL          2        2  \n",
       "           AMZN          2        2  \n",
       "           NFLX          2        2  \n",
       "2021-03-05 AMGN          3        8  \n",
       "           AMZN          2        2  \n",
       "\n",
       "[5 rows x 59 columns]"
      ]
     },
     "execution_count": 5,
     "metadata": {},
     "output_type": "execute_result"
    }
   ],
   "source": [
    "df.head()"
   ]
  },
  {
   "cell_type": "code",
   "execution_count": 6,
   "id": "metric-mayor",
   "metadata": {},
   "outputs": [
    {
     "data": {
      "text/plain": [
       "(4476, 59)"
      ]
     },
     "execution_count": 6,
     "metadata": {},
     "output_type": "execute_result"
    }
   ],
   "source": [
    "df.shape"
   ]
  },
  {
   "cell_type": "markdown",
   "id": "noticed-faculty",
   "metadata": {},
   "source": [
    "### Baseline, Binary Target"
   ]
  },
  {
   "cell_type": "code",
   "execution_count": 7,
   "id": "several-innocent",
   "metadata": {},
   "outputs": [],
   "source": [
    "X = df.drop(['target', 'trend'], axis = 1)\n",
    "y = df['target']"
   ]
  },
  {
   "cell_type": "code",
   "execution_count": 8,
   "id": "technical-saturn",
   "metadata": {},
   "outputs": [],
   "source": [
    "X_train, X_test, y_train, y_test = train_test_split(X, y, test_size = .2, random_state = 0, stratify = y\n",
    "                                                   )"
   ]
  },
  {
   "cell_type": "markdown",
   "id": "helpful-child",
   "metadata": {},
   "source": [
    "scaler = StandardScaler()\n",
    "X_train = scaler.fit_transform(X_train)\n",
    "X_test = scaler.transform(X_test)"
   ]
  },
  {
   "cell_type": "code",
   "execution_count": 9,
   "id": "departmental-transport",
   "metadata": {},
   "outputs": [],
   "source": [
    "from sklearn.ensemble import RandomForestClassifier\n",
    "from sklearn.linear_model import LogisticRegression\n",
    "from sklearn.svm import SVC"
   ]
  },
  {
   "cell_type": "markdown",
   "id": "limited-despite",
   "metadata": {},
   "source": [
    "#### Log reg"
   ]
  },
  {
   "cell_type": "code",
   "execution_count": 10,
   "id": "minute-booking",
   "metadata": {},
   "outputs": [
    {
     "data": {
      "text/plain": [
       "LogisticRegression()"
      ]
     },
     "execution_count": 10,
     "metadata": {},
     "output_type": "execute_result"
    }
   ],
   "source": [
    "lr = LogisticRegression()\n",
    "lr.fit(X_train, y_train)"
   ]
  },
  {
   "cell_type": "code",
   "execution_count": 11,
   "id": "adopted-corner",
   "metadata": {
    "scrolled": true
   },
   "outputs": [
    {
     "name": "stdout",
     "output_type": "stream",
     "text": [
      "Best Threshold = 0.36448651000920534\n",
      "              precision    recall  f1-score   support\n",
      "\n",
      "       False       0.75      0.79      0.77       551\n",
      "        True       0.63      0.57      0.60       345\n",
      "\n",
      "    accuracy                           0.70       896\n",
      "   macro avg       0.69      0.68      0.68       896\n",
      "weighted avg       0.70      0.70      0.70       896\n",
      "\n"
     ]
    }
   ],
   "source": [
    "# calculate roc curves\n",
    "fpr, tpr, thresholds = metrics.roc_curve(y_test, lr.predict_proba(X_test)[::, 1]) #model.predict(X_test)\n",
    "# get the best threshold\n",
    "J = tpr - fpr\n",
    "ix = np.argmax(J)\n",
    "best_thresh = thresholds[ix]\n",
    "print(f'Best Threshold = {best_thresh}')\n",
    "print(metrics.classification_report((lr.predict_proba(X_test)[::, 1] > best_thresh), y_test))"
   ]
  },
  {
   "cell_type": "code",
   "execution_count": 12,
   "id": "informal-richmond",
   "metadata": {},
   "outputs": [],
   "source": [
    "import pickle\n",
    "filename = 'binary_model.sav'\n",
    "pickle.dump(lr, open(filename, 'wb'))"
   ]
  },
  {
   "cell_type": "code",
   "execution_count": null,
   "id": "563b51f2",
   "metadata": {},
   "outputs": [],
   "source": [
    "#loaded_model = pickle.load(open(filename, 'rb'))"
   ]
  },
  {
   "cell_type": "code",
   "execution_count": 14,
   "id": "c1d4111a",
   "metadata": {},
   "outputs": [
    {
     "data": {
      "text/plain": [
       "(896, 57)"
      ]
     },
     "execution_count": 14,
     "metadata": {},
     "output_type": "execute_result"
    }
   ],
   "source": [
    "X_test.shape"
   ]
  },
  {
   "cell_type": "code",
   "execution_count": null,
   "id": "3f063b04",
   "metadata": {},
   "outputs": [],
   "source": []
  },
  {
   "cell_type": "code",
   "execution_count": null,
   "id": "bdf936ec",
   "metadata": {},
   "outputs": [],
   "source": []
  },
  {
   "cell_type": "markdown",
   "id": "d5db9c92",
   "metadata": {},
   "source": [
    "# Visualization"
   ]
  },
  {
   "cell_type": "code",
   "execution_count": 1,
   "id": "307f02ab",
   "metadata": {},
   "outputs": [],
   "source": [
    "import matplotlib.pyplot as plt\n",
    "import seaborn as sns"
   ]
  },
  {
   "cell_type": "code",
   "execution_count": 8,
   "id": "8cb657f7",
   "metadata": {},
   "outputs": [
    {
     "data": {
      "text/html": [
       "<div>\n",
       "<style scoped>\n",
       "    .dataframe tbody tr th:only-of-type {\n",
       "        vertical-align: middle;\n",
       "    }\n",
       "\n",
       "    .dataframe tbody tr th {\n",
       "        vertical-align: top;\n",
       "    }\n",
       "\n",
       "    .dataframe thead th {\n",
       "        text-align: right;\n",
       "    }\n",
       "</style>\n",
       "<table border=\"1\" class=\"dataframe\">\n",
       "  <thead>\n",
       "    <tr style=\"text-align: right;\">\n",
       "      <th></th>\n",
       "      <th></th>\n",
       "      <th>adjclose</th>\n",
       "      <th>ma_10</th>\n",
       "      <th>ma_20</th>\n",
       "      <th>ma_30</th>\n",
       "      <th>ema_12</th>\n",
       "      <th>ema_26</th>\n",
       "      <th>rsi_6_sma</th>\n",
       "      <th>rsi_6_ema</th>\n",
       "      <th>rsi_12_sma</th>\n",
       "      <th>rsi_24_sma</th>\n",
       "      <th>...</th>\n",
       "      <th>sentiment_35</th>\n",
       "      <th>sentiment_36</th>\n",
       "      <th>sentiment_37</th>\n",
       "      <th>sentiment_38</th>\n",
       "      <th>sentiment_39</th>\n",
       "      <th>topic_0</th>\n",
       "      <th>topic_1</th>\n",
       "      <th>topic_2</th>\n",
       "      <th>topic_3</th>\n",
       "      <th>topic_4</th>\n",
       "    </tr>\n",
       "    <tr>\n",
       "      <th>day</th>\n",
       "      <th>ticker</th>\n",
       "      <th></th>\n",
       "      <th></th>\n",
       "      <th></th>\n",
       "      <th></th>\n",
       "      <th></th>\n",
       "      <th></th>\n",
       "      <th></th>\n",
       "      <th></th>\n",
       "      <th></th>\n",
       "      <th></th>\n",
       "      <th></th>\n",
       "      <th></th>\n",
       "      <th></th>\n",
       "      <th></th>\n",
       "      <th></th>\n",
       "      <th></th>\n",
       "      <th></th>\n",
       "      <th></th>\n",
       "      <th></th>\n",
       "      <th></th>\n",
       "      <th></th>\n",
       "    </tr>\n",
       "  </thead>\n",
       "  <tbody>\n",
       "    <tr>\n",
       "      <th rowspan=\"3\" valign=\"top\">2021-03-04</th>\n",
       "      <th>AAPL</th>\n",
       "      <td>119.420219</td>\n",
       "      <td>124.660082</td>\n",
       "      <td>129.457326</td>\n",
       "      <td>131.775941</td>\n",
       "      <td>125.732602</td>\n",
       "      <td>128.423225</td>\n",
       "      <td>39.080453</td>\n",
       "      <td>33.325382</td>\n",
       "      <td>25.560048</td>\n",
       "      <td>29.139135</td>\n",
       "      <td>...</td>\n",
       "      <td>0.467013</td>\n",
       "      <td>0.433376</td>\n",
       "      <td>0.424253</td>\n",
       "      <td>0.410886</td>\n",
       "      <td>0.439668</td>\n",
       "      <td>2</td>\n",
       "      <td>2</td>\n",
       "      <td>2</td>\n",
       "      <td>2</td>\n",
       "      <td>2</td>\n",
       "    </tr>\n",
       "    <tr>\n",
       "      <th>AMZN</th>\n",
       "      <td>2977.570068</td>\n",
       "      <td>3150.865967</td>\n",
       "      <td>3226.814465</td>\n",
       "      <td>3247.276636</td>\n",
       "      <td>3148.529560</td>\n",
       "      <td>3196.767470</td>\n",
       "      <td>24.214878</td>\n",
       "      <td>26.776597</td>\n",
       "      <td>27.150401</td>\n",
       "      <td>38.840834</td>\n",
       "      <td>...</td>\n",
       "      <td>0.518054</td>\n",
       "      <td>0.489071</td>\n",
       "      <td>0.472463</td>\n",
       "      <td>0.461305</td>\n",
       "      <td>0.488746</td>\n",
       "      <td>2</td>\n",
       "      <td>2</td>\n",
       "      <td>2</td>\n",
       "      <td>2</td>\n",
       "      <td>2</td>\n",
       "    </tr>\n",
       "    <tr>\n",
       "      <th>NFLX</th>\n",
       "      <td>511.290009</td>\n",
       "      <td>542.648999</td>\n",
       "      <td>548.110004</td>\n",
       "      <td>549.791003</td>\n",
       "      <td>543.116656</td>\n",
       "      <td>543.017493</td>\n",
       "      <td>29.976383</td>\n",
       "      <td>44.271572</td>\n",
       "      <td>32.122175</td>\n",
       "      <td>49.305999</td>\n",
       "      <td>...</td>\n",
       "      <td>0.532548</td>\n",
       "      <td>0.510936</td>\n",
       "      <td>0.481093</td>\n",
       "      <td>0.474581</td>\n",
       "      <td>0.500493</td>\n",
       "      <td>2</td>\n",
       "      <td>7</td>\n",
       "      <td>6</td>\n",
       "      <td>2</td>\n",
       "      <td>2</td>\n",
       "    </tr>\n",
       "    <tr>\n",
       "      <th rowspan=\"2\" valign=\"top\">2021-03-05</th>\n",
       "      <th>AMGN</th>\n",
       "      <td>220.646820</td>\n",
       "      <td>220.581917</td>\n",
       "      <td>224.169980</td>\n",
       "      <td>228.933960</td>\n",
       "      <td>220.952093</td>\n",
       "      <td>224.423269</td>\n",
       "      <td>17.207729</td>\n",
       "      <td>21.321361</td>\n",
       "      <td>25.914517</td>\n",
       "      <td>24.227511</td>\n",
       "      <td>...</td>\n",
       "      <td>0.560588</td>\n",
       "      <td>0.511620</td>\n",
       "      <td>0.527688</td>\n",
       "      <td>0.506599</td>\n",
       "      <td>0.539568</td>\n",
       "      <td>2</td>\n",
       "      <td>2</td>\n",
       "      <td>8</td>\n",
       "      <td>3</td>\n",
       "      <td>8</td>\n",
       "    </tr>\n",
       "    <tr>\n",
       "      <th>AMZN</th>\n",
       "      <td>3000.459961</td>\n",
       "      <td>3115.799976</td>\n",
       "      <td>3210.066467</td>\n",
       "      <td>3237.749642</td>\n",
       "      <td>3122.227793</td>\n",
       "      <td>3180.443527</td>\n",
       "      <td>24.722160</td>\n",
       "      <td>26.121193</td>\n",
       "      <td>26.326743</td>\n",
       "      <td>37.522669</td>\n",
       "      <td>...</td>\n",
       "      <td>0.454547</td>\n",
       "      <td>0.393381</td>\n",
       "      <td>0.453038</td>\n",
       "      <td>0.444550</td>\n",
       "      <td>0.472122</td>\n",
       "      <td>2</td>\n",
       "      <td>2</td>\n",
       "      <td>2</td>\n",
       "      <td>2</td>\n",
       "      <td>2</td>\n",
       "    </tr>\n",
       "  </tbody>\n",
       "</table>\n",
       "<p>5 rows × 59 columns</p>\n",
       "</div>"
      ],
      "text/plain": [
       "                      adjclose        ma_10        ma_20        ma_30  \\\n",
       "day        ticker                                                       \n",
       "2021-03-04 AAPL     119.420219   124.660082   129.457326   131.775941   \n",
       "           AMZN    2977.570068  3150.865967  3226.814465  3247.276636   \n",
       "           NFLX     511.290009   542.648999   548.110004   549.791003   \n",
       "2021-03-05 AMGN     220.646820   220.581917   224.169980   228.933960   \n",
       "           AMZN    3000.459961  3115.799976  3210.066467  3237.749642   \n",
       "\n",
       "                        ema_12       ema_26  rsi_6_sma  rsi_6_ema  rsi_12_sma  \\\n",
       "day        ticker                                                               \n",
       "2021-03-04 AAPL     125.732602   128.423225  39.080453  33.325382   25.560048   \n",
       "           AMZN    3148.529560  3196.767470  24.214878  26.776597   27.150401   \n",
       "           NFLX     543.116656   543.017493  29.976383  44.271572   32.122175   \n",
       "2021-03-05 AMGN     220.952093   224.423269  17.207729  21.321361   25.914517   \n",
       "           AMZN    3122.227793  3180.443527  24.722160  26.121193   26.326743   \n",
       "\n",
       "                   rsi_24_sma  ...  sentiment_35  sentiment_36  sentiment_37  \\\n",
       "day        ticker              ...                                             \n",
       "2021-03-04 AAPL     29.139135  ...      0.467013      0.433376      0.424253   \n",
       "           AMZN     38.840834  ...      0.518054      0.489071      0.472463   \n",
       "           NFLX     49.305999  ...      0.532548      0.510936      0.481093   \n",
       "2021-03-05 AMGN     24.227511  ...      0.560588      0.511620      0.527688   \n",
       "           AMZN     37.522669  ...      0.454547      0.393381      0.453038   \n",
       "\n",
       "                   sentiment_38  sentiment_39  topic_0  topic_1  topic_2  \\\n",
       "day        ticker                                                          \n",
       "2021-03-04 AAPL        0.410886      0.439668        2        2        2   \n",
       "           AMZN        0.461305      0.488746        2        2        2   \n",
       "           NFLX        0.474581      0.500493        2        7        6   \n",
       "2021-03-05 AMGN        0.506599      0.539568        2        2        8   \n",
       "           AMZN        0.444550      0.472122        2        2        2   \n",
       "\n",
       "                   topic_3  topic_4  \n",
       "day        ticker                    \n",
       "2021-03-04 AAPL          2        2  \n",
       "           AMZN          2        2  \n",
       "           NFLX          2        2  \n",
       "2021-03-05 AMGN          3        8  \n",
       "           AMZN          2        2  \n",
       "\n",
       "[5 rows x 59 columns]"
      ]
     },
     "execution_count": 8,
     "metadata": {},
     "output_type": "execute_result"
    }
   ],
   "source": [
    "df.head()"
   ]
  },
  {
   "cell_type": "code",
   "execution_count": 21,
   "id": "cdbe9c53",
   "metadata": {},
   "outputs": [
    {
     "data": {
      "text/plain": [
       "Text(0.5, 1.0, 'Top-10 RSI-24 companies')"
      ]
     },
     "execution_count": 21,
     "metadata": {},
     "output_type": "execute_result"
    },
    {
     "data": {
      "image/png": "[encoded data removed]",
      "text/plain": [
       "<Figure size 864x576 with 1 Axes>"
      ]
     },
     "metadata": {
      "needs_background": "light"
     },
     "output_type": "display_data"
    }
   ],
   "source": [
    "plt.figure(figsize=(12, 8))\n",
    "df.groupby('ticker')['rsi_24_sma'].mean().sort_values(ascending = False)[:10].plot(kind = 'bar')\n",
    "plt.title('Top-10 RSI-24 companies')"
   ]
  },
  {
   "cell_type": "code",
   "execution_count": 27,
   "id": "d7b2c48f",
   "metadata": {},
   "outputs": [
    {
     "data": {
      "text/plain": [
       "Text(0.5, 1.0, 'Most probable topics, total number')"
      ]
     },
     "execution_count": 27,
     "metadata": {},
     "output_type": "execute_result"
    },
    {
     "data": {
      "image/png": "[encoded data removed]",
      "text/plain": [
       "<Figure size 864x576 with 1 Axes>"
      ]
     },
     "metadata": {
      "needs_background": "light"
     },
     "output_type": "display_data"
    }
   ],
   "source": [
    "plt.figure(figsize=(12, 8))\n",
    "df.topic_0.value_counts().sort_values().plot(kind = 'barh')\n",
    "plt.title('Most probable topics, total number')\n"
   ]
  },
  {
   "cell_type": "code",
   "execution_count": 33,
   "id": "6e7b6a25",
   "metadata": {},
   "outputs": [
    {
     "data": {
      "text/plain": [
       "<AxesSubplot:ylabel='day'>"
      ]
     },
     "execution_count": 33,
     "metadata": {},
     "output_type": "execute_result"
    },
    {
     "data": {
      "image/png": "[encoded data removed]",
      "text/plain": [
       "<Figure size 432x288 with 1 Axes>"
      ]
     },
     "metadata": {
      "needs_background": "light"
     },
     "output_type": "display_data"
    }
   ],
   "source": [
    "df.groupby('day')['adjclose'].count().sort_values(ascending=False)[:10].plot(kind = 'barh')"
   ]
  },
  {
   "cell_type": "code",
   "execution_count": 45,
   "id": "0de05c1d",
   "metadata": {},
   "outputs": [],
   "source": [
    "#custom function for the given ticker and indicator\n",
    "def plot_stock_indicator(ticker, indicator):\n",
    "    values = df.droplevel(0).reset_index()[df.droplevel(0).reset_index()['ticker'] == ticker][indicator]\n",
    "    plt.figure(figsize=(12, 8))\n",
    "    values.plot(kind = 'line')\n",
    "    plt.title(f'{indicator} dynamics of {ticker}')\n",
    "    plt.show()"
   ]
  },
  {
   "cell_type": "code",
   "execution_count": 46,
   "id": "5425d6f2",
   "metadata": {},
   "outputs": [
    {
     "data": {
      "image/png": "[encoded data removed]",
      "text/plain": [
       "<Figure size 864x576 with 1 Axes>"
      ]
     },
     "metadata": {
      "needs_background": "light"
     },
     "output_type": "display_data"
    }
   ],
   "source": [
    "#example\n",
    "plot_stock_indicator('AAPL', 'ma_10')"
   ]
  }
 ],
 "metadata": {
  "kernelspec": {
   "display_name": "Python 3",
   "language": "python",
   "name": "python3"
  },
  "language_info": {
   "codemirror_mode": {
    "name": "ipython",
    "version": 3
   },
   "file_extension": ".py",
   "mimetype": "text/x-python",
   "name": "python",
   "nbconvert_exporter": "python",
   "pygments_lexer": "ipython3",
   "version": "3.8.3"
  }
 },
 "nbformat": 4,
 "nbformat_minor": 5
}
